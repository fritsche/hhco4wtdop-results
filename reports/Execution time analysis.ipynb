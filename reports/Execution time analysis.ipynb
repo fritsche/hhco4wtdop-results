{
 "cells": [
  {
   "cell_type": "code",
   "execution_count": 1,
   "metadata": {},
   "outputs": [
    {
     "data": {
      "text/plain": [
       "'mean: 17:17:08'"
      ]
     },
     "metadata": {},
     "output_type": "display_data"
    },
    {
     "data": {
      "text/plain": [
       "'min: 16:54:32'"
      ]
     },
     "metadata": {},
     "output_type": "display_data"
    },
    {
     "data": {
      "text/plain": [
       "'max: 17:54:42'"
      ]
     },
     "metadata": {},
     "output_type": "display_data"
    },
    {
     "data": {
      "text/plain": [
       "'sum: 5 days, 18:17:01'"
      ]
     },
     "metadata": {},
     "output_type": "display_data"
    },
    {
     "data": {
      "text/plain": [
       "'median: 17:14:02'"
      ]
     },
     "metadata": {},
     "output_type": "display_data"
    },
    {
     "data": {
      "text/plain": [
       "'range: 1:00:10'"
      ]
     },
     "metadata": {},
     "output_type": "display_data"
    },
    {
     "data": {
      "text/plain": [
       "'range-hh: 2:22:50'"
      ]
     },
     "metadata": {},
     "output_type": "display_data"
    },
    {
     "data": {
      "text/plain": [
       "'hh-co: 19:39:58'"
      ]
     },
     "metadata": {},
     "output_type": "display_data"
    },
    {
     "data": {
      "text/plain": [
       "'%hh: 0.12105417110495065'"
      ]
     },
     "metadata": {},
     "output_type": "display_data"
    }
   ],
   "source": [
    "import pandas as pd\n",
    "import math\n",
    "import matplotlib\n",
    "matplotlib.use\n",
    "import matplotlib.pyplot as plt\n",
    "plt.style.use('default')\n",
    "import datetime\n",
    "\n",
    "\n",
    "\n",
    "algorithms=[\"HypE\", \"MOEAD\", \"MOMBI2\", \"NSGAII\", \"NSGAIII\", \"SPEA2\", \"SPEA2SDE\", \"ThetaDEA\", \"CHHCO\"]\n",
    "# algorithms=[\"ThetaDEA\", \"NSGAII\"]\n",
    "\n",
    "dflist = []\n",
    "for alg in algorithms:\n",
    "    base='../experiment/pc5/ECSymposium2019CompetitionMethodology/5/data/%s/WindTurbineDesign/TIME'%(alg)\n",
    "    alglist = []\n",
    "    for i in range(21):\n",
    "        df = pd.read_csv(\"%s%s.tsv\"%(base, i), header=None)\n",
    "        df.columns = [alg]\n",
    "        df[alg] = df[alg] / 3.6e+6 # milliseconds to hours\n",
    "        alglist.append(df)\n",
    "    dfalg = pd.concat(alglist)\n",
    "    dfalg.reset_index(drop=True, inplace=True)\n",
    "    dflist.append(dfalg)\n",
    "df = pd.concat(dflist, axis=1)\n",
    "# set order\n",
    "df = df[[\"CHHCO\",\"HypE\",\"MOEAD\",\"MOMBI2\",\"NSGAII\",\"NSGAIII\",\"SPEA2\",\"SPEA2SDE\",\"ThetaDEA\"]]\n",
    "# display(df)\n",
    "\n",
    "ax = df.max().plot.bar(color=\"steelblue\")\n",
    "ax.set_ylim(0, 24.9)\n",
    "\n",
    "values = [19.666123,17.054781,16.908951,17.407990,17.543936,17.331762,16.988623,17.135988,17.911621]\n",
    "i = 0\n",
    "while i < len(values):\n",
    "    ax.text(i-.2, values[i]+4.3, str(datetime.timedelta(seconds=round(values[i]*60*60))), color='dimgray', rotation=67.5)\n",
    "    i += 1\n",
    "\n",
    "ax.set_ylabel(\"Average execution time (hours)\")\n",
    "labels=[\"HH-CO\",\"HypE\",\"MOEA/D\",\"MOMBI2\",\"NSGA-II\",\"NSGA-III\",\"SPEA2\",\"SPEA2SDE\",\"ThetaDEA\"]\n",
    "ax.set_xticklabels(labels, rotation=67.5)\n",
    "\n",
    "# # ax2.legend()#bbox_to_anchor=(0., 1.02, 1., .102), loc='lower right', ncol=2)\n",
    "fig = ax.get_figure()\n",
    "# plt.subplots_adjust(left=0)\n",
    "fig.savefig(\"executiontime.pdf\", bbox_inches='tight')\n",
    "# plt.show()\n",
    "\n",
    "dftime = df\n",
    "\n",
    "df = df.mean()\n",
    "# df.sort_values(inplace=True, ascending=True)\n",
    "dfhh = df.iloc[df.index == 'CHHCO']\n",
    "df = df.iloc[df.index != 'CHHCO']\n",
    "display(\"mean: %s\"%str(datetime.timedelta(seconds=round(df.mean()*60*60))))\n",
    "display(\"min: %s\"%str(datetime.timedelta(seconds=round(df.min()*60*60))))\n",
    "display(\"max: %s\"%str(datetime.timedelta(seconds=round(df.max()*60*60))))\n",
    "display(\"sum: %s\"%str(datetime.timedelta(seconds=round(df.sum()*60*60))))\n",
    "display(\"median: %s\"%str(datetime.timedelta(seconds=round(df.median()*60*60))))\n",
    "display(\"range: %s\"%str(datetime.timedelta(seconds=round((df.max()-df.min())*60*60))))\n",
    "display(\"range-hh: %s\"%str(datetime.timedelta(seconds=round((dfhh.mean()-df.mean())*60*60))))\n",
    "display(\"hh-co: %s\"%str(datetime.timedelta(seconds=round(dfhh.mean()*60*60))))\n",
    "display(\"%%hh: %s\"%str(1-(df.mean()/dfhh.mean())))\n",
    "\n"
   ]
  },
  {
   "cell_type": "code",
   "execution_count": 7,
   "metadata": {},
   "outputs": [
    {
     "data": {
      "image/png": "[encoded data removed]",
      "text/plain": [
       "<Figure size 432x288 with 1 Axes>"
      ]
     },
     "metadata": {
      "needs_background": "light"
     },
     "output_type": "display_data"
    }
   ],
   "source": [
    "dftime = dftime[['CHHCO', 'NSGAIII', 'ThetaDEA', 'SPEA2', 'SPEA2SDE', 'NSGAII', 'MOMBI2', 'MOEAD', 'HypE']]\n",
    "f = plt.figure()\n",
    "ax = f.gca()\n",
    "dftime.boxplot(ax=ax)\n",
    "ax.set_ylabel('Execution Time')\n",
    "ax.set_xticklabels(['HH-CO', 'NSGA-III', 'ThetaDEA', 'SPEA2', 'SPEA2SDE', 'NSGA-II', 'MOMBI2', 'MOEA/D', 'HypE'], rotation=45)\n",
    "f.savefig(\"timeBoxplot.pdf\")\n",
    "\n",
    "dftime.to_csv('time.csv')"
   ]
  }
 ],
 "metadata": {
  "kernelspec": {
   "display_name": "Python 3",
   "language": "python",
   "name": "python3"
  },
  "language_info": {
   "codemirror_mode": {
    "name": "ipython",
    "version": 3
   },
   "file_extension": ".py",
   "mimetype": "text/x-python",
   "name": "python",
   "nbconvert_exporter": "python",
   "pygments_lexer": "ipython3",
   "version": "3.6.5"
  }
 },
 "nbformat": 4,
 "nbformat_minor": 2
}
