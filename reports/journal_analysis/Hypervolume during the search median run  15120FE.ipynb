{
 "cells": [
  {
   "cell_type": "code",
   "execution_count": 1,
   "metadata": {},
   "outputs": [
    {
     "data": {
      "text/html": [
       "<div>\n",
       "<style scoped>\n",
       "    .dataframe tbody tr th:only-of-type {\n",
       "        vertical-align: middle;\n",
       "    }\n",
       "\n",
       "    .dataframe tbody tr th {\n",
       "        vertical-align: top;\n",
       "    }\n",
       "\n",
       "    .dataframe thead th {\n",
       "        text-align: right;\n",
       "    }\n",
       "</style>\n",
       "<table border=\"1\" class=\"dataframe\">\n",
       "  <thead>\n",
       "    <tr style=\"text-align: right;\">\n",
       "      <th></th>\n",
       "      <th>median</th>\n",
       "    </tr>\n",
       "  </thead>\n",
       "  <tbody>\n",
       "    <tr>\n",
       "      <th>HHCO</th>\n",
       "      <td>5.103347</td>\n",
       "    </tr>\n",
       "    <tr>\n",
       "      <th>CHHLA</th>\n",
       "      <td>5.050267</td>\n",
       "    </tr>\n",
       "  </tbody>\n",
       "</table>\n",
       "</div>"
      ],
      "text/plain": [
       "         median\n",
       "HHCO   5.103347\n",
       "CHHLA  5.050267"
      ]
     },
     "execution_count": 1,
     "metadata": {},
     "output_type": "execute_result"
    }
   ],
   "source": [
    "import pandas as pd\n",
    "import matplotlib\n",
    "import matplotlib.pyplot as plt\n",
    "from matplotlib.ticker import (MultipleLocator, FormatStrFormatter,\n",
    "                               AutoMinorLocator)\n",
    "\n",
    "# load data\n",
    "df = pd.read_csv('WindTurbineDesignHypervolumeMedianRun15kFE.csv')\n",
    "\n",
    "# get max hv for each alg\n",
    "dfmax = df.iloc[[-1]].transpose()\n",
    "dfmax.columns = ['median']\n",
    "dfmax = dfmax.drop('FE', axis=0)\n",
    "\n",
    "# ranking\n",
    "dfmax.sort_values(by='median', ascending=False)"
   ]
  },
  {
   "cell_type": "code",
   "execution_count": 2,
   "metadata": {},
   "outputs": [],
   "source": [
    "# config\n",
    "\n",
    "labels={\n",
    "    \"HHCO\":   \"(1st) HH-CO\",\n",
    "    \"CHHLA\":  \"(2nd) HH-LA\",\n",
    "}\n",
    "\n",
    "colors={\n",
    "    \"HHCO\": \"k\", # black\n",
    "    \"CHHLA\": \"tab:gray\",\n",
    "}\n",
    "\n",
    "styles={ # dashed lines for HHs \n",
    "    \"HHCO\": \"--\",\n",
    "    \"CHHLA\": \"--\",\n",
    "}"
   ]
  },
  {
   "cell_type": "code",
   "execution_count": 3,
   "metadata": {},
   "outputs": [],
   "source": [
    "# plot hypervolume during the search\n",
    "\n",
    "def plot_hypervolume(algs, figname, others='others', legend_outside=True):\n",
    "\n",
    "    f = plt.figure(figsize=(10, 5))\n",
    "    ax = f.gca()\n",
    "\n",
    "    # axins = ax.inset_axes([0.45, 0.17, 0.33, 0.40]) # axis internal box (in %)\n",
    "    # # sub region of the original image\n",
    "    # x1, x2, y1, y2 = 8500, 9900, 4.2, 5\n",
    "    # axins.set_xlim(x1, x2)\n",
    "    # axins.set_ylim(y1, y2)\n",
    "    \n",
    "    df[\"it\"] = df[\"FE\"]/210\n",
    "\n",
    "    i=0\n",
    "    for alg in algs:\n",
    "        df.plot(x=\"it\", y=alg, ax=ax, legend=False, style=styles[alg], color=colors[alg], label=labels[alg])\n",
    "    #    df.plot(x=\"FE\", y=alg, ax=axins, legend=False, style=styles[alg], color=colors[alg], label=labels[alg])\n",
    "        i+=1\n",
    "    ax.set_xlim(-0.1, 15120/210)\n",
    "\n",
    "    plt.plot(1, 0, 'o', color='tab:gray', label='Initialization %s'%(others))\n",
    "    plt.plot(9, 0, 'o', color='k', label=\"Initialization HH-CO\")\n",
    "    \n",
    "    axhandles, axlabels = ax.get_legend_handles_labels()\n",
    "    if legend_outside:\n",
    "        ax.legend(axhandles[::-1], axlabels[::-1], title='', loc='best', bbox_to_anchor=(1, 1.0))\n",
    "    else:\n",
    "        ax.legend(axhandles[::-1], axlabels[::-1], title='', loc='best')\n",
    "        \n",
    "    ax.xaxis.set_minor_locator(MultipleLocator(1))\n",
    "    ax.xaxis.set_major_locator(MultipleLocator(5))\n",
    "    \n",
    "    \n",
    "    # ax.indicate_inset_zoom(axins)\n",
    "\n",
    "    plt.xlabel('Iterations')\n",
    "    plt.ylabel('Hypervolume')\n",
    "    plt.tight_layout()\n",
    "    plt.show()\n",
    "    f.savefig(figname)"
   ]
  },
  {
   "cell_type": "code",
   "execution_count": 4,
   "metadata": {},
   "outputs": [
    {
     "data": {
      "image/png": "[encoded data removed]",
      "text/plain": [
       "<Figure size 720x360 with 1 Axes>"
      ]
     },
     "metadata": {
      "needs_background": "light"
     },
     "output_type": "display_data"
    }
   ],
   "source": [
    "plot_hypervolume(\n",
    "    [\"CHHLA\", \"HHCO\"],\n",
    "    \"hvallmedian15kfe.pdf\",\n",
    "    others=\"HH-LA\",\n",
    "    legend_outside=False\n",
    ")"
   ]
  },
  {
   "cell_type": "code",
   "execution_count": null,
   "metadata": {},
   "outputs": [],
   "source": []
  },
  {
   "cell_type": "code",
   "execution_count": null,
   "metadata": {},
   "outputs": [],
   "source": []
  }
 ],
 "metadata": {
  "kernelspec": {
   "display_name": "Python 3",
   "language": "python",
   "name": "python3"
  },
  "language_info": {
   "codemirror_mode": {
    "name": "ipython",
    "version": 2
   },
   "file_extension": ".py",
   "mimetype": "text/x-python",
   "name": "python",
   "nbconvert_exporter": "python",
   "pygments_lexer": "ipython2",
   "version": "2.7.17"
  }
 },
 "nbformat": 4,
 "nbformat_minor": 4
}
