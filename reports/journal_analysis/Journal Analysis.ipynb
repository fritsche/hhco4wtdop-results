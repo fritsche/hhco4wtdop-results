{
 "cells": [
  {
   "cell_type": "code",
   "execution_count": 4,
   "metadata": {},
   "outputs": [
    {
     "data": {
      "text/html": [
       "<div>\n",
       "<style scoped>\n",
       "    .dataframe tbody tr th:only-of-type {\n",
       "        vertical-align: middle;\n",
       "    }\n",
       "\n",
       "    .dataframe tbody tr th {\n",
       "        vertical-align: top;\n",
       "    }\n",
       "\n",
       "    .dataframe thead th {\n",
       "        text-align: right;\n",
       "    }\n",
       "</style>\n",
       "<table border=\"1\" class=\"dataframe\">\n",
       "  <thead>\n",
       "    <tr style=\"text-align: right;\">\n",
       "      <th></th>\n",
       "      <th>median</th>\n",
       "    </tr>\n",
       "  </thead>\n",
       "  <tbody>\n",
       "    <tr>\n",
       "      <th>NSGAII</th>\n",
       "      <td>4.583595</td>\n",
       "    </tr>\n",
       "    <tr>\n",
       "      <th>HypE</th>\n",
       "      <td>3.410988</td>\n",
       "    </tr>\n",
       "    <tr>\n",
       "      <th>CMOEAD</th>\n",
       "      <td>4.349473</td>\n",
       "    </tr>\n",
       "    <tr>\n",
       "      <th>NSGAIII</th>\n",
       "      <td>4.905625</td>\n",
       "    </tr>\n",
       "    <tr>\n",
       "      <th>CMOMBI2</th>\n",
       "      <td>4.414812</td>\n",
       "    </tr>\n",
       "    <tr>\n",
       "      <th>SPEA2</th>\n",
       "      <td>4.643640</td>\n",
       "    </tr>\n",
       "    <tr>\n",
       "      <th>SPEA2SDE</th>\n",
       "      <td>4.584765</td>\n",
       "    </tr>\n",
       "    <tr>\n",
       "      <th>ThetaDEA</th>\n",
       "      <td>4.739181</td>\n",
       "    </tr>\n",
       "    <tr>\n",
       "      <th>CMOEADD</th>\n",
       "      <td>0.590659</td>\n",
       "    </tr>\n",
       "    <tr>\n",
       "      <th>HHCO</th>\n",
       "      <td>4.667067</td>\n",
       "    </tr>\n",
       "    <tr>\n",
       "      <th>HHLA</th>\n",
       "      <td>4.712832</td>\n",
       "    </tr>\n",
       "  </tbody>\n",
       "</table>\n",
       "</div>"
      ],
      "text/plain": [
       "            median\n",
       "NSGAII    4.583595\n",
       "HypE      3.410988\n",
       "CMOEAD    4.349473\n",
       "NSGAIII   4.905625\n",
       "CMOMBI2   4.414812\n",
       "SPEA2     4.643640\n",
       "SPEA2SDE  4.584765\n",
       "ThetaDEA  4.739181\n",
       "CMOEADD   0.590659\n",
       "HHCO      4.667067\n",
       "HHLA      4.712832"
      ]
     },
     "execution_count": 4,
     "metadata": {},
     "output_type": "execute_result"
    }
   ],
   "source": [
    "import pandas as pd\n",
    "\n",
    "# load data\n",
    "df = pd.read_csv('WindTurbineDesignHypervolumeMedianRun.csv')\n",
    "\n",
    "# get max hv for each alg\n",
    "dfmax = df.iloc[[-1]].transpose()\n",
    "dfmax.columns = ['median']\n",
    "dfmax = dfmax.drop('FE', axis=0)\n",
    "\n",
    "dfmax"
   ]
  }
 ],
 "metadata": {
  "kernelspec": {
   "display_name": "Python 3",
   "language": "python",
   "name": "python3"
  },
  "language_info": {
   "codemirror_mode": {
    "name": "ipython",
    "version": 3
   },
   "file_extension": ".py",
   "mimetype": "text/x-python",
   "name": "python",
   "nbconvert_exporter": "python",
   "pygments_lexer": "ipython3",
   "version": "3.6.9"
  }
 },
 "nbformat": 4,
 "nbformat_minor": 4
}
